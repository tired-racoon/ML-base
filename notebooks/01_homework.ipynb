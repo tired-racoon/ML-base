{
  "nbformat": 4,
  "nbformat_minor": 0,
  "metadata": {
    "colab": {
      "provenance": []
    },
    "kernelspec": {
      "name": "python3",
      "display_name": "Python 3"
    },
    "language_info": {
      "name": "python"
    }
  },
  "cells": [
    {
      "cell_type": "markdown",
      "source": [
        "##Задача 1"
      ],
      "metadata": {
        "id": "A4MQ1GHyiGnX"
      }
    },
    {
      "cell_type": "code",
      "execution_count": 108,
      "metadata": {
        "id": "XlacDVpjonw3"
      },
      "outputs": [],
      "source": [
        "def get_stat(mas):\n",
        "  mean = sum(mas)/len(mas)  # mean is finded\n",
        "  d = dict()\n",
        "  for elem in mas:\n",
        "    d[elem] = d.get(elem, 0) + 1\n",
        "  to_sort = []\n",
        "  for k, v in d.items():\n",
        "    to_sort.append((v, k))   #creating a list of tuples like (count, elem) and then sort it to get max count\n",
        "  to_sort.sort()\n",
        "  mode = to_sort[-1][1]\n",
        "  mas.sort()\n",
        "  if len(mas) % 2:                  # 2 variants of counting median\n",
        "    median = mas[int(len(mas) / 2)]\n",
        "  else:\n",
        "    median = (mas[int(len(mas) / 2) - 1] + mas[int(len(mas) / 2)]) / 2\n",
        "  return {\"mean\" : mean, \"median\" : median, \"mode\" : mode}"
      ]
    },
    {
      "cell_type": "markdown",
      "source": [
        "Протестируем get_stat"
      ],
      "metadata": {
        "id": "079xyMliiKzn"
      }
    },
    {
      "cell_type": "code",
      "source": [
        "mas = [4, 2, 3, 1, 100, 4, 100, 2]\n",
        "print(get_stat(mas))"
      ],
      "metadata": {
        "colab": {
          "base_uri": "https://localhost:8080/"
        },
        "id": "1FrWCe9ce6IB",
        "outputId": "ac93e01f-2350-4c93-b945-c85eb91093ad"
      },
      "execution_count": 109,
      "outputs": [
        {
          "output_type": "stream",
          "name": "stdout",
          "text": [
            "{'mean': 27.0, 'median': 3.5, 'mode': 100}\n"
          ]
        }
      ]
    },
    {
      "cell_type": "code",
      "source": [
        "mas2 = [5, 7, 10, 8, 7]\n",
        "print(get_stat(mas2))"
      ],
      "metadata": {
        "colab": {
          "base_uri": "https://localhost:8080/"
        },
        "id": "x5Oc3U8jhdLc",
        "outputId": "e05322b7-6db2-4abf-b59f-0af007ed8a0f"
      },
      "execution_count": 110,
      "outputs": [
        {
          "output_type": "stream",
          "name": "stdout",
          "text": [
            "{'mean': 7.4, 'median': 7, 'mode': 7}\n"
          ]
        }
      ]
    },
    {
      "cell_type": "markdown",
      "source": [
        "##Задача 2"
      ],
      "metadata": {
        "id": "G4dOqeNGi3ui"
      }
    },
    {
      "cell_type": "code",
      "source": [
        "def parse_csv(file_path):\n",
        "  with open(file_path, 'r') as f:\n",
        "    titles = f.readline()             # getting the first line\n",
        "    titles = titles.replace('\\n', '') # just perfectionism\n",
        "    titles = titles.split(',')\n",
        "    titles[0] = 'index'\n",
        "    strings = []\n",
        "    while True:\n",
        "      line = f.readline()           #getting the other lines\n",
        "      if not line:\n",
        "        break\n",
        "      else:\n",
        "        line = line.replace('\\n', '')  #just perfectionism as well\n",
        "        line = line.replace(\"'\", '')\n",
        "        line = line.replace('\"', '')\n",
        "        line = line.split(',', 7)\n",
        "        line[-1] = line[-1].replace('[', '')\n",
        "        line[-1] = line[-1].replace(']', '')\n",
        "        line[-1] = line[-1].split(', ')    # then, roles looks like list of str\n",
        "        strings.append(line)\n",
        "    parsed = []\n",
        "    for line in strings:\n",
        "      d = {}\n",
        "      for i, col in enumerate(titles):\n",
        "        d[col] = int(line[i]) if isinstance(line[i], str) and line[i].isnumeric() else line[i]    # if we can get a number instead of string, we do it\n",
        "      parsed.append(d)\n",
        "  return parsed"
      ],
      "metadata": {
        "id": "PbRn2y1bi0to"
      },
      "execution_count": 111,
      "outputs": []
    },
    {
      "cell_type": "markdown",
      "source": [
        "Спарсим нужный файл, отсортируем результат по параметру legs и выведем героя с максимумом"
      ],
      "metadata": {
        "id": "Q0KKaPxMnWcU"
      }
    },
    {
      "cell_type": "code",
      "source": [
        "pars = parse_csv('/content/dota_hero_stats.csv')      # I use colab, so replace the beginning of the path if it needed\n",
        "pars_srt = sorted(pars, key = lambda x: x['legs'], reverse = True)\n",
        "pars_srt[0]"
      ],
      "metadata": {
        "colab": {
          "base_uri": "https://localhost:8080/"
        },
        "id": "EjvpemKMkxB9",
        "outputId": "42c05180-77f9-494a-e853-79e4782db9b9"
      },
      "execution_count": 112,
      "outputs": [
        {
          "output_type": "execute_result",
          "data": {
            "text/plain": [
              "{'index': 59,\n",
              " 'attack_type': 'Melee',\n",
              " 'id': 61,\n",
              " 'legs': 8,\n",
              " 'localized_name': 'Broodmother',\n",
              " 'name': 'npc_dota_hero_broodmother',\n",
              " 'primary_attr': 'agi',\n",
              " 'roles': ['Carry', 'Pusher', 'Escape', 'Nuker']}"
            ]
          },
          "metadata": {},
          "execution_count": 112
        }
      ]
    },
    {
      "cell_type": "markdown",
      "source": [
        "##Мера близости"
      ],
      "metadata": {
        "id": "1fwOjDUWxF3F"
      }
    },
    {
      "cell_type": "markdown",
      "source": [
        "Логично было бы использовать меру близости как равенство переменных attack_type, legs, primary_attr и количество совпадений элементов из roles. Например, если у одного персонажа roles = ['Support', 'Disabler', 'Nuker', 'Durable'] \\\\\n",
        "То из 2 вариантов: \\\\\n",
        "- ['Initiator', 'Durable', 'Disabler', 'Jungler'] \\\\\n",
        "- ['Carry', 'Escape', 'Nuker']\n",
        "\n",
        "больше подходит вариант 1, поскольку там 2 совпадения, а со вторым вариантом всего одно."
      ],
      "metadata": {
        "id": "QJTJOOkgxIg0"
      }
    },
    {
      "cell_type": "code",
      "source": [
        "def get_sim(hero1, hero2):\n",
        "  cnt = 0\n",
        "  if hero1['attack_type'] == hero2['attack_type'] and hero1['legs'] == hero2['legs'] and hero1['primary_attr'] == hero2['primary_attr']:\n",
        "    roles1 = sorted(hero1['roles'])\n",
        "    roles2 = sorted(hero2['roles'])\n",
        "    i, j = 0, 0\n",
        "    while i != len(roles1) and j != len(roles2):\n",
        "      if roles1[i] == roles2[j]:\n",
        "        cnt += 1\n",
        "        i += 1                #use method of 2 pointers\n",
        "        j += 1\n",
        "      elif roles1[i] > roles2[j]:\n",
        "        j += 1\n",
        "      else:\n",
        "        i += 1\n",
        "  return cnt"
      ],
      "metadata": {
        "id": "NaiesHid3VxF"
      },
      "execution_count": 113,
      "outputs": []
    },
    {
      "cell_type": "code",
      "source": [
        "mas_of_sims = []\n",
        "for i in range(len(pars) - 1):\n",
        "  for j in range(i + 1, len(pars)):\n",
        "    mas_of_sims.append((get_sim(pars[i], pars[j]), i, j, pars[i]['localized_name'], pars[j]['localized_name']))\n",
        "mas_of_sims.sort(reverse = True)\n",
        "max_s = mas_of_sims[0][0]\n",
        "for elem in mas_of_sims:\n",
        "  if elem[0] == max_s:      # print all pairs that has max\n",
        "    print(elem)\n",
        "  else:\n",
        "    break"
      ],
      "metadata": {
        "colab": {
          "base_uri": "https://localhost:8080/"
        },
        "id": "K_PdMtKZ2tuK",
        "outputId": "f541e70b-47dc-4e20-945c-5c2cc4e734b2"
      },
      "execution_count": 114,
      "outputs": [
        {
          "output_type": "stream",
          "name": "stdout",
          "text": [
            "(6, 22, 71, 'Kunkka', 'Alchemist')\n",
            "(6, 18, 47, 'Tiny', 'Dragon Knight')\n"
          ]
        }
      ]
    }
  ]
}